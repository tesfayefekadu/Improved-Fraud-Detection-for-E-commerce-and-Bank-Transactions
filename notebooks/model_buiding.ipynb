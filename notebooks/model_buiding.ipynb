{
 "cells": [
  {
   "cell_type": "code",
   "execution_count": 1,
   "metadata": {},
   "outputs": [],
   "source": [
    "import pandas as pd\n",
    "from sklearn.model_selection import train_test_split\n",
    "from sklearn.linear_model import LogisticRegression\n",
    "from sklearn.tree import DecisionTreeClassifier\n",
    "from sklearn.ensemble import RandomForestClassifier, GradientBoostingClassifier\n",
    "from sklearn.neural_network import MLPClassifier\n",
    "from sklearn.preprocessing import OneHotEncoder, StandardScaler\n",
    "from sklearn.compose import ColumnTransformer\n",
    "from sklearn.pipeline import Pipeline\n",
    "from sklearn.metrics import classification_report, accuracy_score\n",
    "import sys\n",
    "import os"
   ]
  },
  {
   "cell_type": "code",
   "execution_count": 2,
   "metadata": {},
   "outputs": [],
   "source": [
    "sys.path.append(os.path.abspath('../scripts'))"
   ]
  },
  {
   "cell_type": "code",
   "execution_count": 3,
   "metadata": {},
   "outputs": [],
   "source": [
    "from model_building_and_training import (\n",
    "    separate_features_target_creditcard,\n",
    "    separate_features_target_fraud,\n",
    "    split_train_test,\n",
    "    train_and_evaluate_model\n",
    ")\n",
    "from data_analysis_and_preprocessing import correct_data_types"
   ]
  },
  {
   "cell_type": "code",
   "execution_count": 4,
   "metadata": {},
   "outputs": [],
   "source": [
    "# Load the datasets\n",
    "creditcard_df = pd.read_csv('../data/creditcard.csv')\n",
    "merged_fraud_df = pd.read_csv('../data/merged_fraud_data.csv')\n",
    "\n",
    "# Correct data types for fraud data\n",
    "merged_fraud_df1 = correct_data_types(merged_fraud_df)"
   ]
  },
  {
   "cell_type": "code",
   "execution_count": 5,
   "metadata": {},
   "outputs": [],
   "source": [
    "# Drop datetime columns\n",
    "fraud_df_cleaned = merged_fraud_df1.drop(columns=['signup_time', 'purchase_time'])"
   ]
  },
  {
   "cell_type": "code",
   "execution_count": 6,
   "metadata": {},
   "outputs": [],
   "source": [
    "# Function to split the data into train and test sets\n",
    "# For credit card data\n",
    "X_creditcard, y_creditcard = separate_features_target_creditcard(creditcard_df)\n",
    "X_creditcard_train, X_creditcard_test, y_creditcard_train, y_creditcard_test = split_train_test(X_creditcard, y_creditcard)\n",
    "\n",
    "# For fraud data (merged fraud data)\n",
    "X_fraud, y_fraud = separate_features_target_fraud(fraud_df_cleaned)\n",
    "X_fraud_train, X_fraud_test, y_fraud_train, y_fraud_test = split_train_test(X_fraud, y_fraud)\n"
   ]
  },
  {
   "cell_type": "code",
   "execution_count": 7,
   "metadata": {},
   "outputs": [
    {
     "name": "stdout",
     "output_type": "stream",
     "text": [
      "Credit card train shape: (227845, 30), Credit card test shape: (56962, 30)\n",
      "Fraud data train shape: (103316, 14), Fraud data test shape: (25830, 14)\n"
     ]
    }
   ],
   "source": [
    "# Print the shapes to verify the splits\n",
    "print(f\"Credit card train shape: {X_creditcard_train.shape}, Credit card test shape: {X_creditcard_test.shape}\")\n",
    "print(f\"Fraud data train shape: {X_fraud_train.shape}, Fraud data test shape: {X_fraud_test.shape}\")"
   ]
  },
  {
   "cell_type": "code",
   "execution_count": 8,
   "metadata": {},
   "outputs": [],
   "source": [
    "# Preprocessing: Handle numerical and categorical columns\n",
    "numerical_columns = ['age', 'ip_address', 'purchase_value', 'lower_bound_ip_address', 'upper_bound_ip_address', 'time_to_purchase', 'hour_of_day', 'day_of_week']\n",
    "categorical_columns = ['device_id', 'source', 'browser', 'sex', 'country']"
   ]
  },
  {
   "cell_type": "code",
   "execution_count": 9,
   "metadata": {},
   "outputs": [],
   "source": [
    "# Define preprocessing pipeline for numerical and categorical features\n",
    "preprocessor = ColumnTransformer(\n",
    "    transformers=[\n",
    "        ('num', StandardScaler(), numerical_columns),\n",
    "        ('cat', OneHotEncoder(handle_unknown='ignore'), categorical_columns)\n",
    "    ])\n"
   ]
  },
  {
   "cell_type": "code",
   "execution_count": 10,
   "metadata": {},
   "outputs": [],
   "source": [
    "# Initialize models\n",
    "logistic_regression = LogisticRegression(max_iter=1000)\n",
    "decision_tree = DecisionTreeClassifier()\n",
    "random_forest = RandomForestClassifier()\n",
    "gradient_boosting = GradientBoostingClassifier()\n",
    "mlp = MLPClassifier(max_iter=1000)"
   ]
  },
  {
   "cell_type": "code",
   "execution_count": 11,
   "metadata": {},
   "outputs": [],
   "source": [
    "# Apply preprocessing pipeline and train models\n",
    "# Preprocess the training and test data\n",
    "X_fraud_train_transformed = preprocessor.fit_transform(X_fraud_train)\n",
    "X_fraud_test_transformed = preprocessor.transform(X_fraud_test)"
   ]
  },
  {
   "cell_type": "code",
   "execution_count": 12,
   "metadata": {},
   "outputs": [
    {
     "name": "stdout",
     "output_type": "stream",
     "text": [
      "Training and evaluating LogisticRegression...\n",
      "LogisticRegression Accuracy: 0.9524\n",
      "              precision    recall  f1-score   support\n",
      "\n",
      "           0       0.95      1.00      0.97     23427\n",
      "           1       0.96      0.51      0.67      2403\n",
      "\n",
      "    accuracy                           0.95     25830\n",
      "   macro avg       0.96      0.75      0.82     25830\n",
      "weighted avg       0.95      0.95      0.95     25830\n",
      "\n",
      "Training and evaluating DecisionTreeClassifier...\n",
      "DecisionTreeClassifier Accuracy: 0.9525\n",
      "              precision    recall  f1-score   support\n",
      "\n",
      "           0       0.96      0.99      0.97     23427\n",
      "           1       0.90      0.55      0.68      2403\n",
      "\n",
      "    accuracy                           0.95     25830\n",
      "   macro avg       0.93      0.77      0.83     25830\n",
      "weighted avg       0.95      0.95      0.95     25830\n",
      "\n",
      "Training and evaluating RandomForestClassifier...\n",
      "RandomForestClassifier Accuracy: 0.9567\n",
      "              precision    recall  f1-score   support\n",
      "\n",
      "           0       0.95      1.00      0.98     23427\n",
      "           1       1.00      0.54      0.70      2403\n",
      "\n",
      "    accuracy                           0.96     25830\n",
      "   macro avg       0.98      0.77      0.84     25830\n",
      "weighted avg       0.96      0.96      0.95     25830\n",
      "\n",
      "Training and evaluating GradientBoostingClassifier...\n",
      "GradientBoostingClassifier Accuracy: 0.9568\n",
      "              precision    recall  f1-score   support\n",
      "\n",
      "           0       0.95      1.00      0.98     23427\n",
      "           1       1.00      0.54      0.70      2403\n",
      "\n",
      "    accuracy                           0.96     25830\n",
      "   macro avg       0.98      0.77      0.84     25830\n",
      "weighted avg       0.96      0.96      0.95     25830\n",
      "\n",
      "Training and evaluating MLPClassifier...\n",
      "MLPClassifier Accuracy: 0.9489\n",
      "              precision    recall  f1-score   support\n",
      "\n",
      "           0       0.96      0.99      0.97     23427\n",
      "           1       0.84      0.55      0.67      2403\n",
      "\n",
      "    accuracy                           0.95     25830\n",
      "   macro avg       0.90      0.77      0.82     25830\n",
      "weighted avg       0.95      0.95      0.94     25830\n",
      "\n"
     ]
    }
   ],
   "source": [
    "models = [logistic_regression, decision_tree, random_forest, gradient_boosting, mlp]\n",
    "for model in models:\n",
    "    print(f\"Training and evaluating {model.__class__.__name__}...\")\n",
    "    trained_model = train_and_evaluate_model(model, X_fraud_train_transformed, X_fraud_test_transformed, y_fraud_train, y_fraud_test)"
   ]
  }
 ],
 "metadata": {
  "kernelspec": {
   "display_name": "venv",
   "language": "python",
   "name": "python3"
  },
  "language_info": {
   "codemirror_mode": {
    "name": "ipython",
    "version": 3
   },
   "file_extension": ".py",
   "mimetype": "text/x-python",
   "name": "python",
   "nbconvert_exporter": "python",
   "pygments_lexer": "ipython3",
   "version": "3.11.2"
  }
 },
 "nbformat": 4,
 "nbformat_minor": 2
}
