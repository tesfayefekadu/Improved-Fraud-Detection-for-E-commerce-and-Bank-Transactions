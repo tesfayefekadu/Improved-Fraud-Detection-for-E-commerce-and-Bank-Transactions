{
 "cells": [
  {
   "cell_type": "code",
   "execution_count": 1,
   "metadata": {},
   "outputs": [
    {
     "name": "stdout",
     "output_type": "stream",
     "text": [
      "Model loaded successfully for explainability tasks.\n"
     ]
    }
   ],
   "source": [
    "import pickle\n",
    "\n",
    "# Load the model from the specified path\n",
    "model_path = r'C:\\Users\\ftesfaye\\Desktop\\KIFIYA\\KIFIYA_PROJECT_WEEK_8\\Improved-Fraud-Detection-for-E-commerce-and-Bank-Transactions\\notebooks\\DecisionTreeClassifier().pkl'\n",
    "with open(model_path, 'rb') as file:\n",
    "    model = pickle.load(file)\n",
    "\n",
    "# Now you can use this `model` for SHAP and LIME analysis\n",
    "print(\"Model loaded successfully for explainability tasks.\")\n"
   ]
  },
  {
   "cell_type": "code",
   "execution_count": 2,
   "metadata": {},
   "outputs": [
    {
     "name": "stderr",
     "output_type": "stream",
     "text": [
      "c:\\Users\\ftesfaye\\Desktop\\KIFIYA\\KIFIYA_PROJECT_WEEK_8\\Improved-Fraud-Detection-for-E-commerce-and-Bank-Transactions\\venv\\Lib\\site-packages\\tqdm\\auto.py:21: TqdmWarning: IProgress not found. Please update jupyter and ipywidgets. See https://ipywidgets.readthedocs.io/en/stable/user_install.html\n",
      "  from .autonotebook import tqdm as notebook_tqdm\n"
     ]
    },
    {
     "ename": "NameError",
     "evalue": "name 'X_train' is not defined",
     "output_type": "error",
     "traceback": [
      "\u001b[1;31m---------------------------------------------------------------------------\u001b[0m",
      "\u001b[1;31mNameError\u001b[0m                                 Traceback (most recent call last)",
      "Cell \u001b[1;32mIn[2], line 5\u001b[0m\n\u001b[0;32m      3\u001b[0m \u001b[38;5;66;03m# Assuming X_train is your training data (features only)\u001b[39;00m\n\u001b[0;32m      4\u001b[0m explainer \u001b[38;5;241m=\u001b[39m shap\u001b[38;5;241m.\u001b[39mTreeExplainer(model)  \u001b[38;5;66;03m# Use KernelExplainer if TreeExplainer is unsupported\u001b[39;00m\n\u001b[1;32m----> 5\u001b[0m shap_values \u001b[38;5;241m=\u001b[39m explainer\u001b[38;5;241m.\u001b[39mshap_values(\u001b[43mX_train\u001b[49m)\n\u001b[0;32m      7\u001b[0m \u001b[38;5;66;03m# Summary plot\u001b[39;00m\n\u001b[0;32m      8\u001b[0m shap\u001b[38;5;241m.\u001b[39msummary_plot(shap_values, X_train)\n",
      "\u001b[1;31mNameError\u001b[0m: name 'X_train' is not defined"
     ]
    }
   ],
   "source": [
    "import shap\n",
    "\n",
    "# Assuming X_train is your training data (features only)\n",
    "explainer  = shap.TreeExplainer(model)  # Use KernelExplainer if TreeExplainer is unsupported\n",
    "shap_values = explainer.shap_values(X_train)\n",
    "\n",
    "# Summary plot\n",
    "shap.summary_plot(shap_values, X_train)\n",
    "\n",
    "# Force plot for a single prediction (use for jupyter environments)\n",
    "shap.force_plot(explainer.expected_value[1], shap_values[1][0, :], X_train.iloc[0, :])\n",
    "\n",
    "# Dependence plot for a selected feature (e.g., 'purchase_value')\n",
    "shap.dependence_plot(\"purchase_value\", shap_values[1], X_train)\n"
   ]
  }
 ],
 "metadata": {
  "kernelspec": {
   "display_name": "venv",
   "language": "python",
   "name": "python3"
  },
  "language_info": {
   "codemirror_mode": {
    "name": "ipython",
    "version": 3
   },
   "file_extension": ".py",
   "mimetype": "text/x-python",
   "name": "python",
   "nbconvert_exporter": "python",
   "pygments_lexer": "ipython3",
   "version": "3.11.2"
  }
 },
 "nbformat": 4,
 "nbformat_minor": 2
}
